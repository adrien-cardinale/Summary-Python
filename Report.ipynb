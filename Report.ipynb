{
 "cells": [
  {
   "attachments": {},
   "cell_type": "markdown",
   "metadata": {},
   "source": [
    "# Summary Python Adrien Cardinale"
   ]
  },
  {
   "attachments": {},
   "cell_type": "markdown",
   "metadata": {},
   "source": [
    "## Data Structure"
   ]
  },
  {
   "attachments": {},
   "cell_type": "markdown",
   "metadata": {},
   "source": [
    "### Scalar"
   ]
  },
  {
   "cell_type": "code",
   "execution_count": null,
   "metadata": {},
   "outputs": [],
   "source": [
    "int = 42\n",
    "float = 3.14159\n",
    "complex = 1 + 2j\n",
    "string = \"Hello World\"\n",
    "boolean = True\n",
    "status = None"
   ]
  },
  {
   "attachments": {},
   "cell_type": "markdown",
   "metadata": {},
   "source": [
    "We don't have to declare the type of the variable, the type is automatically assigned."
   ]
  },
  {
   "attachments": {},
   "cell_type": "markdown",
   "metadata": {},
   "source": [
    "### Container"
   ]
  },
  {
   "cell_type": "code",
   "execution_count": null,
   "metadata": {},
   "outputs": [],
   "source": [
    "List = [1, 2, 3, 4, 5]\n",
    "print(f\"The last element of the list is {List[-1]}\")\n",
    "print(f\"All the elements of the list are {List[:-1]}\")\n",
    "print(f\"The second and third elements of the list are {list[1:3]}\")\n",
    "print(f\"All the elements with a step of 2 are {List[::2]}\")\n",
    "# any and all examples\n",
    "print(any([i > 3 for i in List]))\n",
    "print(all([i > 3 for i in List]))\n",
    "for i in List:\n",
    "    print(i)"
   ]
  },
  {
   "cell_type": "code",
   "execution_count": null,
   "metadata": {},
   "outputs": [],
   "source": [
    "tuple = (1, 2, 3, 4, 5)\n",
    "hash = tuple.__hash__()\n",
    "print(4 in tuple)\n",
    "# tuple[0] = 0 # Error"
   ]
  },
  {
   "cell_type": "code",
   "execution_count": null,
   "metadata": {},
   "outputs": [],
   "source": [
    "dictionary = {\"key1\": \"value1\", \"key2\": \"value2\"}\n",
    "print(f\"The dictionary {dictionary.items()}\")\n",
    "print(f\"The key {dictionary.keys()}\")\n",
    "print(f\"The value {dictionary.values()}\")\n",
    "print(f\"The key is hashable {dictionary['key1'].__hash__()}\")"
   ]
  },
  {
   "cell_type": "code",
   "execution_count": null,
   "metadata": {},
   "outputs": [],
   "source": [
    "set = {1, 2, 3, 4, 5}\n",
    "print(f\"The set {set}\")\n",
    "set.add(6)\n",
    "print(f\"The set {set}\")"
   ]
  },
  {
   "cell_type": "code",
   "execution_count": null,
   "metadata": {},
   "outputs": [],
   "source": [
    "from collections import namedtuple\n",
    "nTuple = namedtuple(\"namTuple\", [\"key1\", \"key2\"])\n",
    "nTuple = nTuple(\"value1\", \"value2\")\n",
    "print(f\"The named tuple {nTuple}\")\n",
    "print(f\"The named tuple {nTuple.key1}\")"
   ]
  },
  {
   "cell_type": "code",
   "execution_count": null,
   "metadata": {},
   "outputs": [],
   "source": [
    "a = 1\n",
    "b = 2\n",
    "a, b = b, a\n",
    "print(f\"The value of a is {a} and the value of b is {b}\")"
   ]
  },
  {
   "cell_type": "code",
   "execution_count": null,
   "metadata": {},
   "outputs": [],
   "source": [
    "for i, v in enumerate(List):\n",
    "    print(f\"The index is {i} and the value is {v}\")\n",
    "\n",
    "firstnames = ['John', 'Emmet', 'Luke']\n",
    "lastnames = ['Doe', 'Brown', 'Skywalker']\n",
    "print(list(zip(firstnames, lastnames)))\n",
    "print([' '.join(x) for x in list(zip(firstnames, lastnames))])\n",
    "print(list(map(lambda x: ' '.join(x), zip(firstnames, lastnames))))\n",
    "print(list(filter(lambda x: x%3, [1,2,3,4,5,6,7])))"
   ]
  },
  {
   "attachments": {},
   "cell_type": "markdown",
   "metadata": {},
   "source": [
    "## Operators of dereferencing"
   ]
  },
  {
   "cell_type": "code",
   "execution_count": null,
   "metadata": {},
   "outputs": [],
   "source": [
    "def operate(a, b, **kwargs):\n",
    "        if 'add' in kwargs:\n",
    "            print(f\"{a}+{b}={a+b}\")\n",
    "        if 'sub' in kwargs:\n",
    "            print(f\"{a}-{b}={a-b}\")\n",
    "operate(23,42)\n",
    "operate(23,42,add=True)\n",
    "operate(23,42,add=True, sub=True)"
   ]
  },
  {
   "attachments": {},
   "cell_type": "markdown",
   "metadata": {},
   "source": [
    "## Class"
   ]
  },
  {
   "cell_type": "code",
   "execution_count": null,
   "metadata": {},
   "outputs": [],
   "source": [
    "class MyClass:\n",
    "    def __init__(self, value):\n",
    "        \"\"\"\n",
    "        This is the constructor of the class\n",
    "        \"\"\"\n",
    "        self.value = value\n",
    "    def __next__(self):\n",
    "        \"\"\"\n",
    "        This method return the next value\n",
    "        \"\"\"\n",
    "        return self.value + 1\n",
    "    def __iter__(self):\n",
    "        \"\"\"\n",
    "        This method return the iterator\n",
    "        \"\"\"\n",
    "        return self\n",
    "    def __getitem__(self, index):\n",
    "        \"\"\"\n",
    "        This method return the item at the index\n",
    "        \"\"\"\n",
    "        return self.value[index]\n",
    "    @property # property decorator to make the method a property of the class (getter)\n",
    "    def value(self):\n",
    "        \"\"\"\n",
    "        This method return the value\n",
    "        \"\"\"\n",
    "        return self._value\n",
    "    @value.setter # setter decorator to make the method a setter of the class\n",
    "    def value(self, value):\n",
    "        \"\"\"\n",
    "        This method set the value\n",
    "        \"\"\"\n",
    "        self._value = value"
   ]
  },
  {
   "attachments": {},
   "cell_type": "markdown",
   "metadata": {},
   "source": [
    "## Open file"
   ]
  },
  {
   "cell_type": "code",
   "execution_count": null,
   "metadata": {},
   "outputs": [],
   "source": [
    "fp = open(\"file.txt\", \"r\") # w: write, r: read, a: append\n",
    "fp.read()\n",
    "fp.readline()\n",
    "fp.readlines()\n",
    "fp.close()\n",
    "\n",
    "with open(\"file.txt\", \"w\") as fp: # with open automatically close the file\n",
    "    fp.write(\"Hello World\")"
   ]
  },
  {
   "attachments": {},
   "cell_type": "markdown",
   "metadata": {},
   "source": [
    "## NumPy"
   ]
  },
  {
   "cell_type": "code",
   "execution_count": null,
   "metadata": {},
   "outputs": [],
   "source": [
    "import numpy as np\n",
    "a = np.arange(1, 10)\n",
    "print(a)\n",
    "b = np.arange(1, 10, 2)\n",
    "print(b)\n",
    "c = np.linspace(1, 10, 10)\n",
    "print(c)\n",
    "d = np.zeros((2, 3))\n",
    "print(d)\n",
    "e = np.ones((2, 3))\n",
    "print(e)\n",
    "a2 = a[:, np.newaxis]\n",
    "print(a2)\n",
    "print(a2 * b)"
   ]
  },
  {
   "attachments": {},
   "cell_type": "markdown",
   "metadata": {},
   "source": [
    "## Click"
   ]
  },
  {
   "cell_type": "code",
   "execution_count": null,
   "metadata": {},
   "outputs": [],
   "source": [
    "import click\n",
    "\n",
    "@click.group()\n",
    "def cli():\n",
    "    pass\n",
    "\n",
    "@cli.command()\n",
    "@click.argument('a', type=float, nargs=1, required=True)\n",
    "@click.argument('b', type=float, default=0.0)\n",
    "@click.argument('c', type=float)\n",
    "def quad(a, b, c):\n",
    "    delta = b**2 - 4*a*c\n",
    "    # Display x1 and x2 even if complex\n",
    "    x1 = (-b + delta**0.5) / (2*a)\n",
    "    x2 = (-b - delta**0.5) / (2*a)\n",
    "    click.echo(f'x1 = {x1}')\n",
    "    click.echo(f'x2 = {x2}')\n",
    "    \n",
    "if __name__ == '__main__':\n",
    "    quad()"
   ]
  },
  {
   "attachments": {},
   "cell_type": "markdown",
   "metadata": {},
   "source": [
    "## Pandas"
   ]
  },
  {
   "cell_type": "code",
   "execution_count": 29,
   "metadata": {},
   "outputs": [
    {
     "data": {
      "text/html": [
       "<div>\n",
       "<style scoped>\n",
       "    .dataframe tbody tr th:only-of-type {\n",
       "        vertical-align: middle;\n",
       "    }\n",
       "\n",
       "    .dataframe tbody tr th {\n",
       "        vertical-align: top;\n",
       "    }\n",
       "\n",
       "    .dataframe thead th {\n",
       "        text-align: right;\n",
       "    }\n",
       "</style>\n",
       "<table border=\"1\" class=\"dataframe\">\n",
       "  <thead>\n",
       "    <tr style=\"text-align: right;\">\n",
       "      <th></th>\n",
       "      <th>a</th>\n",
       "      <th>b</th>\n",
       "    </tr>\n",
       "  </thead>\n",
       "  <tbody>\n",
       "    <tr>\n",
       "      <th>count</th>\n",
       "      <td>3.0</td>\n",
       "      <td>3.0</td>\n",
       "    </tr>\n",
       "    <tr>\n",
       "      <th>mean</th>\n",
       "      <td>2.0</td>\n",
       "      <td>5.0</td>\n",
       "    </tr>\n",
       "    <tr>\n",
       "      <th>std</th>\n",
       "      <td>1.0</td>\n",
       "      <td>1.0</td>\n",
       "    </tr>\n",
       "    <tr>\n",
       "      <th>min</th>\n",
       "      <td>1.0</td>\n",
       "      <td>4.0</td>\n",
       "    </tr>\n",
       "    <tr>\n",
       "      <th>25%</th>\n",
       "      <td>1.5</td>\n",
       "      <td>4.5</td>\n",
       "    </tr>\n",
       "    <tr>\n",
       "      <th>50%</th>\n",
       "      <td>2.0</td>\n",
       "      <td>5.0</td>\n",
       "    </tr>\n",
       "    <tr>\n",
       "      <th>75%</th>\n",
       "      <td>2.5</td>\n",
       "      <td>5.5</td>\n",
       "    </tr>\n",
       "    <tr>\n",
       "      <th>max</th>\n",
       "      <td>3.0</td>\n",
       "      <td>6.0</td>\n",
       "    </tr>\n",
       "  </tbody>\n",
       "</table>\n",
       "</div>"
      ],
      "text/plain": [
       "         a    b\n",
       "count  3.0  3.0\n",
       "mean   2.0  5.0\n",
       "std    1.0  1.0\n",
       "min    1.0  4.0\n",
       "25%    1.5  4.5\n",
       "50%    2.0  5.0\n",
       "75%    2.5  5.5\n",
       "max    3.0  6.0"
      ]
     },
     "execution_count": 29,
     "metadata": {},
     "output_type": "execute_result"
    }
   ],
   "source": [
    "import pandas as pd\n",
    "df = pd.DataFrame({'a': [1, 2, 3], 'b': [4, 5, 6]})\n",
    "df.describe()"
   ]
  },
  {
   "cell_type": "code",
   "execution_count": 28,
   "metadata": {},
   "outputs": [
    {
     "data": {
      "text/html": [
       "<div>\n",
       "<style scoped>\n",
       "    .dataframe tbody tr th:only-of-type {\n",
       "        vertical-align: middle;\n",
       "    }\n",
       "\n",
       "    .dataframe tbody tr th {\n",
       "        vertical-align: top;\n",
       "    }\n",
       "\n",
       "    .dataframe thead th {\n",
       "        text-align: right;\n",
       "    }\n",
       "</style>\n",
       "<table border=\"1\" class=\"dataframe\">\n",
       "  <thead>\n",
       "    <tr style=\"text-align: right;\">\n",
       "      <th></th>\n",
       "      <th>a</th>\n",
       "      <th>b</th>\n",
       "    </tr>\n",
       "  </thead>\n",
       "  <tbody>\n",
       "    <tr>\n",
       "      <th>0</th>\n",
       "      <td>1</td>\n",
       "      <td>4</td>\n",
       "    </tr>\n",
       "    <tr>\n",
       "      <th>1</th>\n",
       "      <td>2</td>\n",
       "      <td>5</td>\n",
       "    </tr>\n",
       "    <tr>\n",
       "      <th>2</th>\n",
       "      <td>3</td>\n",
       "      <td>6</td>\n",
       "    </tr>\n",
       "  </tbody>\n",
       "</table>\n",
       "</div>"
      ],
      "text/plain": [
       "   a  b\n",
       "0  1  4\n",
       "1  2  5\n",
       "2  3  6"
      ]
     },
     "execution_count": 28,
     "metadata": {},
     "output_type": "execute_result"
    }
   ],
   "source": [
    "df.head()"
   ]
  },
  {
   "cell_type": "code",
   "execution_count": 30,
   "metadata": {},
   "outputs": [
    {
     "data": {
      "text/html": [
       "<div>\n",
       "<style scoped>\n",
       "    .dataframe tbody tr th:only-of-type {\n",
       "        vertical-align: middle;\n",
       "    }\n",
       "\n",
       "    .dataframe tbody tr th {\n",
       "        vertical-align: top;\n",
       "    }\n",
       "\n",
       "    .dataframe thead th {\n",
       "        text-align: right;\n",
       "    }\n",
       "</style>\n",
       "<table border=\"1\" class=\"dataframe\">\n",
       "  <thead>\n",
       "    <tr style=\"text-align: right;\">\n",
       "      <th></th>\n",
       "      <th>a</th>\n",
       "      <th>b</th>\n",
       "    </tr>\n",
       "  </thead>\n",
       "  <tbody>\n",
       "    <tr>\n",
       "      <th>0</th>\n",
       "      <td>1</td>\n",
       "      <td>4</td>\n",
       "    </tr>\n",
       "    <tr>\n",
       "      <th>2</th>\n",
       "      <td>3</td>\n",
       "      <td>6</td>\n",
       "    </tr>\n",
       "  </tbody>\n",
       "</table>\n",
       "</div>"
      ],
      "text/plain": [
       "   a  b\n",
       "0  1  4\n",
       "2  3  6"
      ]
     },
     "execution_count": 30,
     "metadata": {},
     "output_type": "execute_result"
    }
   ],
   "source": [
    "df.loc[df['a'].isin([1, 3]), ['a', 'b']]"
   ]
  }
 ],
 "metadata": {
  "kernelspec": {
   "display_name": "Python 3",
   "language": "python",
   "name": "python3"
  },
  "language_info": {
   "codemirror_mode": {
    "name": "ipython",
    "version": 3
   },
   "file_extension": ".py",
   "mimetype": "text/x-python",
   "name": "python",
   "nbconvert_exporter": "python",
   "pygments_lexer": "ipython3",
   "version": "3.10.6"
  },
  "orig_nbformat": 4
 },
 "nbformat": 4,
 "nbformat_minor": 2
}
