{
 "cells": [
  {
   "attachments": {},
   "cell_type": "markdown",
   "metadata": {},
   "source": [
    "# Summary Python Adrien Cardinale"
   ]
  },
  {
   "attachments": {},
   "cell_type": "markdown",
   "metadata": {},
   "source": [
    "## Data Structure"
   ]
  },
  {
   "attachments": {},
   "cell_type": "markdown",
   "metadata": {},
   "source": [
    "### Scalar"
   ]
  },
  {
   "cell_type": "code",
   "execution_count": null,
   "metadata": {},
   "outputs": [],
   "source": [
    "int = 42\n",
    "float = 3.14159\n",
    "complex = 1 + 2j\n",
    "string = \"Hello World\"\n",
    "boolean = True\n",
    "status = None"
   ]
  },
  {
   "attachments": {},
   "cell_type": "markdown",
   "metadata": {},
   "source": [
    "We don't have to declare the type of the variable, the type is automatically assigned."
   ]
  },
  {
   "attachments": {},
   "cell_type": "markdown",
   "metadata": {},
   "source": [
    "### Container"
   ]
  },
  {
   "cell_type": "code",
   "execution_count": 2,
   "metadata": {},
   "outputs": [
    {
     "name": "stdout",
     "output_type": "stream",
     "text": [
      "The last element of the list is 5\n",
      "All the elements of the list are [1, 2, 3, 4]\n",
      "The second and third elements of the list are [2, 3]\n",
      "All the elements with a step of 2 are [1, 3, 5]\n",
      "1\n",
      "2\n",
      "3\n",
      "4\n",
      "5\n"
     ]
    }
   ],
   "source": [
    "list = [1, 2, 3, 4, 5]\n",
    "print(f\"The last element of the list is {list[-1]}\")\n",
    "print(f\"All the elements of the list are {list[:-1]}\")\n",
    "print(f\"The second and third elements of the list are {list[1:3]}\")\n",
    "print(f\"All the elements with a step of 2 are {list[::2]}\")\n",
    "for i in list:\n",
    "    print(i)"
   ]
  },
  {
   "cell_type": "code",
   "execution_count": 5,
   "metadata": {},
   "outputs": [],
   "source": [
    "tuple = (1, 2, 3, 4, 5)\n",
    "hash = tuple.__hash__()\n",
    "# tuple[0] = 0 # Error"
   ]
  },
  {
   "cell_type": "code",
   "execution_count": 14,
   "metadata": {},
   "outputs": [
    {
     "name": "stdout",
     "output_type": "stream",
     "text": [
      "The dictionary dict_items([('key1', 'value1'), ('key2', 'value2')])\n",
      "The key dict_keys(['key1', 'key2'])\n",
      "The value dict_values(['value1', 'value2'])\n",
      "The key is hashable -5895452859301541511\n"
     ]
    }
   ],
   "source": [
    "dictionary = {\"key1\": \"value1\", \"key2\": \"value2\"}\n",
    "print(f\"The dictionary {dictionary.items()}\")\n",
    "print(f\"The key {dictionary.keys()}\")\n",
    "print(f\"The value {dictionary.values()}\")\n",
    "print(f\"The key is hashable {dictionary['key1'].__hash__()}\")"
   ]
  },
  {
   "cell_type": "code",
   "execution_count": 15,
   "metadata": {},
   "outputs": [
    {
     "name": "stdout",
     "output_type": "stream",
     "text": [
      "The set {1, 2, 3, 4, 5}\n",
      "The set {1, 2, 3, 4, 5, 6}\n"
     ]
    }
   ],
   "source": [
    "set = {1, 2, 3, 4, 5}\n",
    "print(f\"The set {set}\")\n",
    "set.add(6)\n",
    "print(f\"The set {set}\")"
   ]
  },
  {
   "cell_type": "code",
   "execution_count": 18,
   "metadata": {},
   "outputs": [
    {
     "name": "stdout",
     "output_type": "stream",
     "text": [
      "The named tuple namTuple(key1='value1', key2='value2')\n"
     ]
    }
   ],
   "source": [
    "from collections import namedtuple\n",
    "nTuple = namedtuple(\"namTuple\", [\"key1\", \"key2\"])\n",
    "nTuple = nTuple(\"value1\", \"value2\")\n",
    "print(f\"The named tuple {nTuple}\")"
   ]
  },
  {
   "attachments": {},
   "cell_type": "markdown",
   "metadata": {},
   "source": [
    "## Class"
   ]
  },
  {
   "cell_type": "code",
   "execution_count": null,
   "metadata": {},
   "outputs": [],
   "source": [
    "class MyClass:\n",
    "    def __init__(self, value):\n",
    "        \"\"\"\n",
    "        This is the constructor of the class\n",
    "        \"\"\"\n",
    "        self.value = value\n",
    "    def __next__(self):\n",
    "        \"\"\"\n",
    "        This method return the next value\n",
    "        \"\"\"\n",
    "        return self.value + 1\n",
    "    def __iter__(self):\n",
    "        \"\"\"\n",
    "        This method return the iterator\n",
    "        \"\"\"\n",
    "        return self"
   ]
  },
  {
   "attachments": {},
   "cell_type": "markdown",
   "metadata": {},
   "source": [
    "## Open file"
   ]
  },
  {
   "cell_type": "code",
   "execution_count": null,
   "metadata": {},
   "outputs": [],
   "source": [
    "fp = open(\"file.txt\", \"r\") # w: write, r: read, a: append\n",
    "fp.read()\n",
    "fp.readline()\n",
    "fp.readlines()\n",
    "fp.close()\n",
    "\n",
    "with open(\"file.txt\", \"w\") as fp: # with open automatically close the file\n",
    "    fp.write(\"Hello World\")"
   ]
  }
 ],
 "metadata": {
  "kernelspec": {
   "display_name": "Python 3",
   "language": "python",
   "name": "python3"
  },
  "language_info": {
   "codemirror_mode": {
    "name": "ipython",
    "version": 3
   },
   "file_extension": ".py",
   "mimetype": "text/x-python",
   "name": "python",
   "nbconvert_exporter": "python",
   "pygments_lexer": "ipython3",
   "version": "3.10.6"
  },
  "orig_nbformat": 4
 },
 "nbformat": 4,
 "nbformat_minor": 2
}
